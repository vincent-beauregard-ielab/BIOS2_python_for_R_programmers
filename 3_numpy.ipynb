{
 "cells": [
  {
   "cell_type": "markdown",
   "metadata": {},
   "source": [
    "## What is Numpy?\n",
    "\n",
    "* Python library for numerical operations\n",
    "* Provides a multidimensional array data type `ndarray`, with functions to operate on it efficiently and easily\n",
    "* Fast and efficient : written in C or C++\n",
    "* To handle large arrays and matrices of numeric data `ndarray` should be used as Python's built-in `list` type\n",
    "* Overview of functionas available in Numpy: https://numpy.org/doc/stable/user/quickstart.html#functions-and-methods-overview\n",
    "* Other useful data types and constant for data science: `np.nan`, `np.inf`, `np.pi`, `np.e`, etc"
   ]
  },
  {
   "cell_type": "markdown",
   "metadata": {},
   "source": [
    "## Numpy is the foundation of the Python data science ecosystem\n",
    "\n",
    "![data-science infrascture](https://numpy.org/images/content_images/ds-landscape.png)"
   ]
  },
  {
   "cell_type": "markdown",
   "metadata": {},
   "source": [
    "## Quick numpy demo"
   ]
  },
  {
   "cell_type": "code",
   "execution_count": null,
   "metadata": {},
   "outputs": [],
   "source": [
    "# The standard way to import NumPy:\n",
    "import numpy as np # Equivalent to library() in R\n",
    "\n",
    "# Create a 2-D array, set every second element in\n",
    "# some rows and find max per row:\n",
    "\n",
    "x = np.arange(15, dtype=np.int64).reshape(3, 5) # Other common dtypes: np.float64, np.complex128\n",
    "\n",
    "# # Slice syntax: [start:stop:step] (same as Python lists)\n",
    "# x[1:, ::2] = -99\n",
    "x"
   ]
  },
  {
   "cell_type": "code",
   "execution_count": null,
   "metadata": {},
   "outputs": [],
   "source": [
    "# Random number generation:\n",
    "# Functions np.random.rand(), np.random.randint(), and np.random.randn()\n",
    "# are the most commonly used.\n",
    "\n",
    "# Functions to specify a random seed and a specific distribution are also available.\n",
    "y = np.random.randint(low=-100, high=100, size=(3, 5))\n",
    "y"
   ]
  },
  {
   "cell_type": "code",
   "execution_count": null,
   "metadata": {},
   "outputs": [],
   "source": [
    "# Arithmetic operations are element-wise:\n",
    "x * 2\n",
    "# x * y\n",
    "\n",
    "# Algebraic operations are matrix operations:\n",
    "# Dot product:\n",
    "v = np.array([1, 2, 3, 4, 5])\n",
    "np.dot(x, v)\n",
    "\n",
    "# Matrix multiplication:\n",
    "np.matmul(x, y.T) # same as x @ v\n"
   ]
  },
  {
   "cell_type": "code",
   "execution_count": null,
   "metadata": {},
   "outputs": [],
   "source": [
    "# Describe the array:\n",
    "print(f'''\n",
    "shape: {x.shape}\n",
    "dtype: {x.dtype}\n",
    "ndim: {x.ndim}\n",
    "size: {x.size}\n",
    "''')"
   ]
  },
  {
   "cell_type": "code",
   "execution_count": null,
   "metadata": {},
   "outputs": [],
   "source": [
    "# Basic aggregation on arrays along dimensions (0 is along rows, 1 is along columns):\n",
    "x.max(axis=1)\n",
    "# x.mean(axis=1)"
   ]
  },
  {
   "cell_type": "markdown",
   "metadata": {},
   "source": [
    "### Exercise:\n",
    "1. Using numpy create two 2-D arrays, one with random integers and one\n",
    "with random floats. \n",
    "2. Calculate the mean and standard deviation of each array along the rows. Use np.mean() and np.std().\n",
    "3. Calculate the correlation coefficient between the two arrays. Find the function in the [numpy documentation](https://numpy.org/doc/stable/reference/routines.html).\n"
   ]
  },
  {
   "cell_type": "code",
   "execution_count": null,
   "metadata": {},
   "outputs": [],
   "source": [
    "# 1. Create arrays with random integers and floats.\n",
    "\n",
    "# 2. Calculate the mean and standard deviation of each array along the rows.\n",
    "\n",
    "# 3. Calculate the correlation coefficient between the two arrays. use np.corrcoef()."
   ]
  }
 ],
 "metadata": {
  "kernelspec": {
   "display_name": "Python 3.8.10 ('base')",
   "language": "python",
   "name": "python3"
  },
  "language_info": {
   "codemirror_mode": {
    "name": "ipython",
    "version": 3
   },
   "file_extension": ".py",
   "mimetype": "text/x-python",
   "name": "python",
   "nbconvert_exporter": "python",
   "pygments_lexer": "ipython3",
   "version": "3.8.10"
  },
  "orig_nbformat": 4,
  "vscode": {
   "interpreter": {
    "hash": "678becc90396e97495d18b22cfe2812bf1b0d813dae805ee1714731755d366a6"
   }
  }
 },
 "nbformat": 4,
 "nbformat_minor": 2
}
