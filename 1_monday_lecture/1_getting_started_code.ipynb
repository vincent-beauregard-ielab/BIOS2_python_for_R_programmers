{
 "cells": [
  {
   "cell_type": "markdown",
   "metadata": {},
   "source": [
    "## Getting started with Python when you already know R\n",
    "\n",
    "Contents of today's lecture:\n",
    "1. Introduction to Python\n",
    "   1. 🙋‍♂️ How have they heard from Python, why they want to use it (I want good and bad reasons)\n",
    "   2. What is Python\n",
    "   3. How is it similar and different from R\n",
    "   4. Why use python\n",
    "   5. Running Python in three ways\n",
    "      1. Python interpreter\n",
    "      2. Integrated development environments (IDEs)\n",
    "      3. Jupyter notebooks\n",
    "   6. 🚀 Setup a Colab notebook and print hello world, also assign a variable and print it, and do some math operations\n",
    "2. A few differences between R and Python\n",
    "   6. No built-in data frames\n",
    "   7. Importing packages\n",
    "   8. Help\n",
    "   9. Math operations\n",
    "3. Pandas\n",
    "4. NumPy\n",
    "\n",
    "5. Vanilla Python live coding\n",
    "   1. List manipulation dot notation\n",
    "   2. String manipulation and formatting\n",
    "   3. Control flow syntax and indentation\n",
    "   4. for and if\n",
    "   5. range\n",
    "   6. 0-based indexing\n",
    "   7. indentation\n",
    "   8. Dot notation\n",
    "   9. Indentation\n",
    "\n",
    "6. Package ecosystem and using numpy and matplotlib\n",
    "7. Creating a function and using it\n",
    "   1. 🙋‍♂️ Who has used functions in R\n",
    "   2. 🚀 Here is a problem description. Propose one or more functions that could solve it, how would you name them, what would they take as input and what would they return as output?\n",
    "\n",
    "\n",
    "8. Pandas live coding\n",
    "\n",
    "\n",
    "\n",
    "Things making me anxious about the lecture:\n",
    "1. I am not familiar with Collab: available packages and how to install them\n",
    "2. Basic datasets for examples and importing them in Collab\n",
    "3. Sharing the Collab notebook with the students\n",
    "4. Numpy, what it is used for and how to use it\n",
    "5. SciPy, what it is used for and how to use it\n",
    "6. Using zoom efficiently for the lecture\n",
    "\n",
    "Preparation for the lecture:\n",
    "* Have a google account to use Collab"
   ]
  },
  {
   "cell_type": "markdown",
   "metadata": {},
   "source": [
    "## Introduction to syntax\n",
    "* Hello World\n",
    "* Comments\n",
    "* Variables\n",
    "* Indentation\n",
    "\n",
    "\n"
   ]
  },
  {
   "cell_type": "code",
   "execution_count": 1,
   "metadata": {},
   "outputs": [
    {
     "name": "stdout",
     "output_type": "stream",
     "text": [
      "Hello World!\n"
     ]
    }
   ],
   "source": [
    "# \n",
    "print('Hello World!')"
   ]
  },
  {
   "cell_type": "code",
   "execution_count": null,
   "metadata": {},
   "outputs": [],
   "source": [
    "# List of random integer values\n",
    "random_numbers = [23, 17, 41, 6, 33, 45, 2, 19, 39, 12, 27, 22, 30, 4, 10, 40, 48, 36, 7, 1]\n",
    "\n",
    "# Let's describe the list\n",
    "print(len(random_numbers))\n",
    "print(max(random_numbers))\n",
    "print(min(random_numbers))\n",
    "\n",
    "# Let's describe the list\n",
    "print(f\"Length of the list: {len(random_numbers)}\")\n",
    "print(f\"Maximum value in the list: {max(random_numbers)}\")\n",
    "print(f\"Minimum value in the list: {min(random_numbers)}\")\n",
    "\n",
    "# Initialize variables to store counts of even and odd numbers\n",
    "even_count = 0\n",
    "odd_count = 0\n",
    "\n",
    "\n",
    "# Iterate through the list using a for loop\n",
    "for i in range(len(random_numbers)):\n",
    "    # Check if the number is even or odd\n",
    "    if random_numbers[i] % 2 == 0:\n",
    "        even_count += 1\n",
    "    else:\n",
    "        odd_count += 1\n",
    "\n",
    "# Iterate through the list using a for loop\n",
    "for number in random_numbers: \n",
    "    # Check if the number is even or odd\n",
    "    if number % 2 == 0:\n",
    "        even_count += 1\n",
    "    else:\n",
    "        odd_count += 1\n",
    "\n",
    "# Print the final counts of even and odd numbers\n",
    "print(f\"Even numbers count: {even_count}\")\n",
    "print(f\"Odd numbers count: {odd_count}\")"
   ]
  }
 ],
 "metadata": {
  "kernelspec": {
   "display_name": "Python 3.8.10 ('base')",
   "language": "python",
   "name": "python3"
  },
  "language_info": {
   "codemirror_mode": {
    "name": "ipython",
    "version": 3
   },
   "file_extension": ".py",
   "mimetype": "text/x-python",
   "name": "python",
   "nbconvert_exporter": "python",
   "pygments_lexer": "ipython3",
   "version": "3.8.10"
  },
  "orig_nbformat": 4,
  "vscode": {
   "interpreter": {
    "hash": "678becc90396e97495d18b22cfe2812bf1b0d813dae805ee1714731755d366a6"
   }
  }
 },
 "nbformat": 4,
 "nbformat_minor": 2
}
