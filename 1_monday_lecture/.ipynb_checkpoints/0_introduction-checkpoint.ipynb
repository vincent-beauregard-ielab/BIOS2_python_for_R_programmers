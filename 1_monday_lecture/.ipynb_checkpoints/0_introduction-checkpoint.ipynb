{
 "cells": [
  {
   "cell_type": "markdown",
   "metadata": {},
   "source": [
    "## R vs Python\n",
    "**File extension**\n",
    "`script.R` vs `script.py`\n",
    "\n",
    "Running code: Rscript script.R vs python script.py\n",
    "\n",
    "* Run from a terminal\n",
    "```sh\n",
    "R CMD BATCH script.R #👎\n",
    "# or\n",
    "Rscript script.R #✅\n",
    "\n",
    "python script.py #✅\n",
    "```\n",
    "\n",
    "* Running a script from an interactive session\n",
    "From R\n",
    "```R\n",
    "source(\"script.R\") #✅\n",
    "```\n",
    "From Python\n",
    "```python\n",
    "exec(open(\"script.py\").read())\n",
    "# or\n",
    "%run script.py\n",
    "# or\n",
    "from script import *\n",
    "# or\n",
    "%load script.py\n",
    "```\n",
    "```\n",
    "From Jupyter notebook or ipython\n",
    "```python\n",
    "%load script.py\n",
    "```\n",
    "\n",
    "Reusing code: R package vs Python package\n",
    "\n"
   ]
  },
  {
   "cell_type": "markdown",
   "metadata": {},
   "source": []
  },
  {
   "cell_type": "code",
   "execution_count": null,
   "metadata": {},
   "outputs": [],
   "source": [
    "# R vs Python\n",
    "# File extension: script.R vs script.py\n",
    "# Runninng code: Rscript script.R vs python script.py\n",
    "# Interpreted vs compiled"
   ]
  }
 ],
 "metadata": {
  "kernelspec": {
   "display_name": "Python 3 (ipykernel)",
   "language": "python",
   "name": "python3"
  },
  "language_info": {
   "codemirror_mode": {
    "name": "ipython",
    "version": 3
   },
   "file_extension": ".py",
   "mimetype": "text/x-python",
   "name": "python",
   "nbconvert_exporter": "python",
   "pygments_lexer": "ipython3",
   "version": "3.8.10"
  },
  "vscode": {
   "interpreter": {
    "hash": "678becc90396e97495d18b22cfe2812bf1b0d813dae805ee1714731755d366a6"
   }
  }
 },
 "nbformat": 4,
 "nbformat_minor": 2
}
