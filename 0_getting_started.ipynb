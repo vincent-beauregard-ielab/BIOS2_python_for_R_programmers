{
 "cells": [
  {
   "cell_type": "markdown",
   "metadata": {},
   "source": [
    "# 0 - Getting started with Google Colab\n",
    "Introduction to Python for R users\n",
    "\n",
    "## What is Google Colab?\n",
    "Google Colab is a free Jupyter notebook environment that requires no setup and runs entirely in the cloud. It allows you to write and execute Python code in your web browser, with no need to install Python on your computer. All scientific libraries are already installed and ready to use.\n",
    "\n",
    "## Course material on google Colab\n",
    "Course material is in the form of Python notebooks, in the `ipynb` format. These notebooks can be opened and executed in Google Colab from the GitHub repository of the course.\n",
    "\n",
    "To access the course material, we will use the GitHub integration of Google Colab. To do so, follow this link : [https://colab.research.google.com/github/vincent-beauregard-ielab/BIOS2_python_for_R_programmers](https://colab.research.google.com/github/vincent-beauregard-ielab/BIOS2_python_for_R_programmers)\n",
    "\n",
    "## What are python notebooks?\n",
    "\n",
    "A Python notebook, also known as a Jupyter notebook, is an interactive computational environment that allows you to create and share documents containing live code, equations, visualizations, and explanatory text. It provides a convenient way to work with Python code, analyze data, and present your findings in a structured and interactive manner.\n",
    "\n",
    "Python notebooks consist of a series of cells, which can contain code, text, or visual elements. Each cell can be executed individually, allowing you to run and test code snippets in an interactive manner. This interactive execution model makes Python notebooks particularly useful for data analysis, prototyping, and teaching purposes.\n",
    "\n",
    "Notebooks are a preferred way to work with Python in the scientific community. They can be run locally on your computer by [installing the Jupyter notebook environment](https://jupyter.org/install), or in the cloud using Google Colab.\n",
    "\n",
    "## How to use Python notebooks?\n",
    "\n",
    "Python notebooks are composed of cells. Each cell can contain either text (markdown) or code (Python). To execute a cell, you can click on the \"play\" button on the left of the cell, or use the keyboard shortcut `Shift+Enter`.\n",
    "\n",
    "You can try by executing the following cell with a classic \"Hello world!\" example:\n",
    "   "
   ]
  },
  {
   "cell_type": "code",
   "execution_count": null,
   "metadata": {},
   "outputs": [],
   "source": [
    "# Here is a comment 🤔\n",
    "print(\"Hello world! 🚀\")"
   ]
  },
  {
   "cell_type": "markdown",
   "metadata": {},
   "source": [
    "## File management in Google Colab\n",
    "- Files can be uploaded and downloaded or accessed from Google drive from the `Files` menu, accessible from the left sidebar.\n",
    "- The best way to save and manage files is to use Google Drive. You can mount your Google Drive by executing the following cell:\n",
    "- Files created in Google Colab are saved in the virtual machine and will be lost when the session is closed. You can save your files to Google Drive to keep them. To do so, you can view the files from your current session in the `content` folder. From there you can right-click on a file and select `Move to Drive` to save it to your Google Drive, or `Download` to download it to your computer.\n",
    "- To mount your Google Drive, execute the following cell. All synced files will be made available in the `content` folder."
   ]
  },
  {
   "cell_type": "code",
   "execution_count": null,
   "metadata": {},
   "outputs": [],
   "source": [
    "# Mount Google Drive\n",
    "from google.colab import drive\n",
    "drive.mount('/content/drive')"
   ]
  },
  {
   "cell_type": "markdown",
   "metadata": {},
   "source": [
    "- Current directory in google colab is `/content/`.\n",
    "You can list the files in the current directory by executing the following cell:"
   ]
  },
  {
   "cell_type": "code",
   "execution_count": null,
   "metadata": {},
   "outputs": [],
   "source": [
    "# ! is used to run shell commands\n",
    "!ls"
   ]
  },
  {
   "cell_type": "markdown",
   "metadata": {},
   "source": [
    "## Other things to know about Python notebooks and google Colab\n",
    "\n",
    "- You can add new cells by clicking on the `+ Code` or `+ Text` buttons in the toolbar.\n",
    "- Keyboard shortcuts are available in the `Tools` menu.\n",
    "- You can install additional packages by running `!pip install <package_name>` in a code cell."
   ]
  }
 ],
 "metadata": {
  "kernelspec": {
   "display_name": "Python 3.8.10 ('base')",
   "language": "python",
   "name": "python3"
  },
  "language_info": {
   "codemirror_mode": {
    "name": "ipython",
    "version": 3
   },
   "file_extension": ".py",
   "mimetype": "text/x-python",
   "name": "python",
   "nbconvert_exporter": "python",
   "pygments_lexer": "ipython3",
   "version": "3.8.10"
  },
  "orig_nbformat": 4,
  "vscode": {
   "interpreter": {
    "hash": "678becc90396e97495d18b22cfe2812bf1b0d813dae805ee1714731755d366a6"
   }
  }
 },
 "nbformat": 4,
 "nbformat_minor": 2
}
