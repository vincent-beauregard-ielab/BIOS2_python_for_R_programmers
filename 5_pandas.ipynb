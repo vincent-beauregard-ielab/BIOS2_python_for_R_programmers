{
 "cells": [
  {
   "cell_type": "markdown",
   "metadata": {},
   "source": [
    "## Pandas\n",
    "\n",
    "Pandas is a Python package providing fast, flexible, and expressive data structures designed to make working with “relational” or “labeled” data both easy and intuitive. It aims to be the fundamental high-level building block for doing practical, real world data analysis in Python.\n",
    "\n",
    "Can be seen as a Python version of R's `data.frame` type, combined with some of the functionalities of `dplyr` and `tidyr`.\n",
    "\n",
    "* Provide the DataFrame object for data manipulation with integrated indexing.\n",
    "* Provide tools for reading and writing data between in-memory data structures (CSV and text files, Microsoft Excel, SQL databases, etc)\n",
    "* Implement behind numpy for fast array computation and matplotlib for plotting.\n",
    "* Most common data manipulation tasks: subsetting, filtering, merging, sorting, grouping, joining, reshaping, and more.\n",
    "\n",
    "Refer to the [documentation](https://pandas.pydata.org/docs/reference/index.html#api) for more details."
   ]
  },
  {
   "cell_type": "code",
   "execution_count": null,
   "metadata": {},
   "outputs": [],
   "source": [
    "# Download the data from the UCI Machine Learning Repository to the local ./data/ directory\n",
    "# https://archive.ics.uci.edu/ml/datasets/Iris\n",
    "!wget -P ./data/ https://archive.ics.uci.edu/ml/machine-learning-databases/iris/iris.data"
   ]
  },
  {
   "cell_type": "code",
   "execution_count": null,
   "metadata": {},
   "outputs": [],
   "source": [
    "import pandas as pd\n",
    "\n",
    "# Iris data columns names\n",
    "names = ['sepal length (cm)', 'sepal width (cm)', 'petal length (cm)', 'petal width (cm)', 'species']\n",
    "\n",
    "# Load the dataset from CSV\n",
    "data = pd.read_csv('./data/iris.data', names=names)\n",
    "\n",
    "# What datatype is data\n",
    "type(data) # pandas DataFrame\n",
    "\n",
    "# First 5 rows of the dataset\n",
    "# data.head()\n",
    "\n",
    "# Summary statistics\n",
    "# data.describe()\n",
    "\n",
    "# Number of rows and columns and types\n",
    "# data.info()\n",
    "\n",
    "# Conbvvert to numpy array\n",
    "# subset = data['sepal length (cm)'].values\n",
    "\n"
   ]
  },
  {
   "cell_type": "code",
   "execution_count": null,
   "metadata": {},
   "outputs": [],
   "source": [
    "# Indexing and slicing\n",
    "\n",
    "# Index by integer position using iloc\n",
    "# Same as numpy array indexing\n",
    "\n",
    "subset = data.iloc[0] # First row\n",
    "# subset = data.iloc[0, 0] # First row, first column\n",
    "# subset = data.iloc[0:3] # First 3 rows\n",
    "# subset = data.iloc[:,-1] # Last column all rows\n",
    "\n",
    "# Index by row and column name using loc\n",
    "# Same as python dictionary indexing\n",
    "subset = data.loc[0, 'sepal length (cm)'] # First row, first column\n",
    "subset = data.loc[0]['sepal length (cm)']\n",
    "\n",
    "\n",
    "# Index by column name\n",
    "# Same as python dictionary indexing\n",
    "\n",
    "# subset = data['sepal length (cm)'] # First column\n",
    "# subset = data[['sepal length (cm)', 'sepal width (cm)']] # First and second column\n",
    "\n",
    "# Index by boolean mask\n",
    "# subset = data[data['sepal length (cm)'] > 5.0] # All rows where sepal length > 5.0\n",
    "\n",
    "# Index by boolean mask and column name\n",
    "# subset = data[data['sepal length (cm)'] > 5.0]['sepal length (cm)'] # sepal length > 5.0 and only sepal length column\n",
    "\n",
    "subset"
   ]
  },
  {
   "cell_type": "code",
   "execution_count": null,
   "metadata": {},
   "outputs": [],
   "source": [
    "# Aggregation functions\n",
    "\n",
    "# Mean of each column (excluding not numeric columns)\n",
    "data.iloc[:,:-1].mean()\n",
    "data.iloc[:,:-1].mean(axis=1) # Mean of each row\n",
    "\n",
    "# Unique values in a column\n",
    "data['species'].unique()\n",
    "\n",
    "# Mean of each column by species\n",
    "data.groupby('species').mean()"
   ]
  },
  {
   "cell_type": "code",
   "execution_count": null,
   "metadata": {},
   "outputs": [],
   "source": [
    "# Plotting\n",
    "\n",
    "# Plot histogram of each column\n",
    "data.iloc[:,:-1].hist(figsize=(15,10))\n",
    "\n",
    "# Scatter plot of sepal length vs sepal width\n",
    "# data.plot.scatter(x='sepal length (cm)', y='sepal width (cm)', figsize=(15,10))\n",
    "\n",
    "# Scatter plot of sepal length vs sepal width by species\n",
    "\n",
    "# map species to integer\n",
    "for i, species in enumerate(data['species'].unique()):\n",
    "    data.loc[data['species'] == species, 'species_id'] = int(i)\n",
    "\n",
    "data.plot.scatter(x='sepal length (cm)', y='sepal width (cm)', c='species_id', colormap='viridis', figsize=(15,10))"
   ]
  }
 ],
 "metadata": {
  "kernelspec": {
   "display_name": "Python 3.8.10 ('base')",
   "language": "python",
   "name": "python3"
  },
  "language_info": {
   "codemirror_mode": {
    "name": "ipython",
    "version": 3
   },
   "file_extension": ".py",
   "mimetype": "text/x-python",
   "name": "python",
   "nbconvert_exporter": "python",
   "pygments_lexer": "ipython3",
   "version": "3.8.10"
  },
  "orig_nbformat": 4,
  "vscode": {
   "interpreter": {
    "hash": "678becc90396e97495d18b22cfe2812bf1b0d813dae805ee1714731755d366a6"
   }
  }
 },
 "nbformat": 4,
 "nbformat_minor": 2
}
