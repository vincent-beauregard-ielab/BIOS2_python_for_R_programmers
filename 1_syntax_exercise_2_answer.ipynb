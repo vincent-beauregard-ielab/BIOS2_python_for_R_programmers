{
 "cells": [
  {
   "cell_type": "markdown",
   "metadata": {},
   "source": [
    "Exercise 2 - Tuples and Dictionaries\n",
    "\n",
    "You are given a list of observations with a reference list of species for a site. You have to perform the following tasks:\n",
    "1. Print the number of observations per year.\n",
    "2. Print the number of observation for an exotic species.\n",
    "3. Print the number of observations per kingdom.\n"
   ]
  },
  {
   "cell_type": "code",
   "execution_count": 2,
   "metadata": {},
   "outputs": [],
   "source": [
    "observations = [('1990-01-01', 'Dreissena polymorpha'),\n",
    "                ('1996-01-04', 'Fallopia japonica'),\n",
    "                ('2013-06-07', 'Lonicera japonica'),\n",
    "                ('1999-02-06', 'Populus tremuloides'),\n",
    "                ('2008-06-12', 'Phragmites australis'),\n",
    "                ('2004-01-25', 'Tamiasciurus hudsonicus'),\n",
    "                ('2015-12-21', 'Populus tremuloides'),\n",
    "                ('2008-06-08', 'Salmo salar'),\n",
    "                ('2011-12-15', 'Picea glauca'),\n",
    "                ('2007-12-27', 'Populus tremuloides'),\n",
    "                ('1998-07-11', 'Carpinus caroliniana'),\n",
    "                ('2010-02-25', 'Alces alces'),\n",
    "                ('2011-12-28', 'Tamiasciurus hudsonicus'),\n",
    "                ('1998-01-03', 'Ursus americanus'),\n",
    "                ('2011-12-28', 'Fallopia japonica'),\n",
    "                ('2003-06-24', 'Puma concolor'),\n",
    "                ('2001-07-23', 'Lonicera japonica'),\n",
    "                ('1994-07-22', 'Carpinus caroliniana'),\n",
    "                ('2007-11-19', 'Castor canadensis'),\n",
    "                ('1992-09-17', 'Quercus rubra')]\n",
    "                \n",
    "species = [\n",
    "    {\"scientific_name\": \"Dreissena polymorpha\", \"exotic\": True, \"vernacular_name\": \"zebra mussel\",\n",
    "        \"kingdom\": \"Animalia\", \"class\": \"Bivalvia\", \"family\": \"Dreissenidae\"},\n",
    "    {\"scientific_name\": \"Puma concolor\", \"exotic\": False, \"vernacular_name\": \"cougar\",\n",
    "        \"kingdom\": \"Animalia\", \"class\": \"Mammalia\", \"family\": \"Felidae\"},\n",
    "    {\"scientific_name\": \"Ursus americanus\", \"exotic\": False, \"vernacular_name\": \"black bear\",\n",
    "        \"kingdom\": \"Animalia\", \"class\": \"Mammalia\", \"family\": \"Ursidae\"},\n",
    "    {\"scientific_name\": \"Alces alces\", \"exotic\": False, \"vernacular_name\": \"moose\",\n",
    "        \"kingdom\": \"Animalia\", \"class\": \"Mammalia\", \"family\": \"Cervidae\"},\n",
    "    {\"scientific_name\": \"Lynx canadensis\", \"exotic\": False, \"vernacular_name\": \"Canadian lynx\",\n",
    "        \"kingdom\": \"Animalia\", \"class\": \"Mammalia\", \"family\": \"Felidae\"},\n",
    "    {\"scientific_name\": \"Branta canadensis\", \"exotic\": False, \"vernacular_name\": \"Canada goose\",\n",
    "        \"kingdom\": \"Animalia\", \"class\": \"Aves\", \"family\": \"Anatidae\"},\n",
    "    {\"scientific_name\": \"Castor canadensis\", \"exotic\": False, \"vernacular_name\": \"North American beaver\",\n",
    "        \"kingdom\": \"Animalia\", \"class\": \"Mammalia\", \"family\": \"Castoridae\"},\n",
    "    {\"scientific_name\": \"Tamiasciurus hudsonicus\", \"exotic\": False, \"vernacular_name\": \"red squirrel\",\n",
    "        \"kingdom\": \"Animalia\", \"class\": \"Mammalia\", \"family\": \"Sciuridae\"},\n",
    "    {\"scientific_name\": \"Acer saccharum\", \"exotic\": False, \"vernacular_name\": \"sugar maple\",\n",
    "        \"kingdom\": \"Plantae\", \"class\": \"Magnoliopsida\", \"family\": \"Sapindaceae\"},\n",
    "    {\"scientific_name\": \"Picea glauca\", \"exotic\": False, \"vernacular_name\": \"white spruce\",\n",
    "        \"kingdom\": \"Plantae\", \"class\": \"Pinopsida\", \"family\": \"Pinaceae\"},\n",
    "    {\"scientific_name\": \"Larix laricina\", \"exotic\": False, \"vernacular_name\": \"tamarack\",\n",
    "        \"kingdom\": \"Plantae\", \"class\": \"Pinopsida\", \"family\": \"Pinaceae\"},\n",
    "    {\"scientific_name\": \"Abies balsamea\", \"exotic\": False, \"vernacular_name\": \"balsam fir\",\n",
    "        \"kingdom\": \"Plantae\", \"class\": \"Pinopsida\", \"family\": \"Pinaceae\"},\n",
    "    {\"scientific_name\": \"Lonicera japonica\", \"exotic\": True, \"vernacular_name\": \"Japanese honeysuckle\",\n",
    "        \"kingdom\": \"Plantae\", \"class\": \"Magnoliopsida\", \"family\": \"Caprifoliaceae\"},\n",
    "    {\"scientific_name\": \"Fallopia japonica\", \"exotic\": True, \"vernacular_name\": \"Japanese knotweed\",\n",
    "        \"kingdom\": \"Plantae\", \"class\": \"Magnoliopsida\", \"family\": \"Polygonaceae\"},\n",
    "    {\"scientific_name\": \"Carpinus caroliniana\", \"exotic\": False, \"vernacular_name\": \"American hornbeam\",\n",
    "        \"kingdom\": \"Plantae\", \"class\": \"Magnoliopsida\", \"family\": \"Betulaceae\"},\n",
    "    {\"scientific_name\": \"Quercus rubra\", \"exotic\": False, \"vernacular_name\": \"red oak\",\n",
    "        \"kingdom\": \"Plantae\", \"class\": \"Magnoliopsida\", \"family\": \"Fagaceae\"},\n",
    "    {\"scientific_name\": \"Myriophyllum spicatum\", \"exotic\": True, \"vernacular_name\": \"Eurasian watermilfoil\",\n",
    "        \"kingdom\": \"Plantae\", \"class\": \"Magnoliopsida\", \"family\": \"Haloragaceae\"},\n",
    "    {\"scientific_name\": \"Populus tremuloides\", \"exotic\": False, \"vernacular_name\": \"trembling aspen\",\n",
    "        \"kingdom\": \"Plantae\", \"class\": \"Magnoliopsida\", \"family\": \"Salicaceae\"},\n",
    "    {\"scientific_name\": \"Phragmites australis\", \"exotic\": True, \"vernacular_name\": \"common reed\",\n",
    "        \"kingdom\": \"Plantae\", \"class\": \"Liliopsida\", \"family\": \"Poaceae\"},\n",
    "    {\"scientific_name\": \"Esox lucius\", \"exotic\": False, \"vernacular_name\": \"northern pike\",\n",
    "        \"kingdom\": \"Animalia\", \"class\": \"Actinopterygii\", \"family\": \"Esocidae\"},\n",
    "    {\"scientific_name\": \"Salmo salar\", \"exotic\": False, \"vernacular_name\": \"Atlantic salmon\",\n",
    "        \"kingdom\": \"Animalia\", \"class\": \"Actinopterygii\", \"family\": \"Salmonidae\"}\n",
    "]\n",
    "\n"
   ]
  },
  {
   "cell_type": "code",
   "execution_count": 3,
   "metadata": {},
   "outputs": [
    {
     "name": "stdout",
     "output_type": "stream",
     "text": [
      "{'1990': 1, '1996': 1, '2013': 1, '1999': 1, '2008': 2, '2004': 1, '2015': 1, '2011': 3, '2007': 2, '1998': 2, '2010': 1, '2003': 1, '2001': 1, '1994': 1, '1992': 1}\n"
     ]
    }
   ],
   "source": [
    "# 1. Iterate over the list of tuples and create a dictionary pf counts for each year\n",
    "\n",
    "year_counts = {}\n",
    "for row in observations:\n",
    "    year = row[0][0:4]\n",
    "    if year not in year_counts:\n",
    "        year_counts[year] = 0\n",
    "    year_counts[year] += 1\n",
    "\n",
    "print(year_counts)\n"
   ]
  },
  {
   "cell_type": "code",
   "execution_count": 4,
   "metadata": {},
   "outputs": [
    {
     "name": "stdout",
     "output_type": "stream",
     "text": [
      "There are 6 observations of exotic species\n"
     ]
    }
   ],
   "source": [
    "# 2. \n",
    "# Reorganize species data into a dictionary where the keys are the scientific\n",
    "# names to make it easier to look up species attributes.\n",
    "\n",
    "species_by_scientific_name = {}\n",
    "for sp in species:\n",
    "    species_by_scientific_name[sp['scientific_name']] = sp\n",
    "\n",
    "# Iterate over observations to get exotic by scientific name\n",
    "count_exotic = 0\n",
    "for _, obs_species in observations:\n",
    "    is_exotic = species_by_scientific_name[obs_species]['exotic']\n",
    "    if is_exotic:\n",
    "        count_exotic += 1\n",
    "\n",
    "print(f'There are {count_exotic} observations of exotic species')"
   ]
  },
  {
   "cell_type": "code",
   "execution_count": 6,
   "metadata": {},
   "outputs": [
    {
     "name": "stdout",
     "output_type": "stream",
     "text": [
      "There are 8 observations of species in the kingdom Animalia\n",
      "There are 12 observations of species in the kingdom Plantae\n"
     ]
    }
   ],
   "source": [
    "#3\n",
    "# Iterate over observations to get kingdom by scientific name and store in a dictionary\n",
    "kingdom_counts = {}\n",
    "for _, obs_species in observations:\n",
    "    kingdom = species_by_scientific_name[obs_species]['kingdom']\n",
    "    if kingdom not in kingdom_counts:\n",
    "        kingdom_counts[kingdom] = 0\n",
    "    kingdom_counts[kingdom] += 1\n",
    "\n",
    "for kingdom, count in kingdom_counts.items():\n",
    "    print(f'There are {count} observations of species in the kingdom {kingdom}')"
   ]
  }
 ],
 "metadata": {
  "kernelspec": {
   "display_name": "Python 3.8.10 ('base')",
   "language": "python",
   "name": "python3"
  },
  "language_info": {
   "codemirror_mode": {
    "name": "ipython",
    "version": 3
   },
   "file_extension": ".py",
   "mimetype": "text/x-python",
   "name": "python",
   "nbconvert_exporter": "python",
   "pygments_lexer": "ipython3",
   "version": "3.8.10"
  },
  "orig_nbformat": 4,
  "vscode": {
   "interpreter": {
    "hash": "678becc90396e97495d18b22cfe2812bf1b0d813dae805ee1714731755d366a6"
   }
  }
 },
 "nbformat": 4,
 "nbformat_minor": 2
}
