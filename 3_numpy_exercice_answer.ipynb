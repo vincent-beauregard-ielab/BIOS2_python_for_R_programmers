{
 "cells": [
  {
   "cell_type": "code",
   "execution_count": 2,
   "metadata": {},
   "outputs": [
    {
     "name": "stdout",
     "output_type": "stream",
     "text": [
      "[78 71 12 50  2 43 14 18 67  2 13 92 57 49 37 27 40 64  9 91 92 40 79  8\n",
      " 20]\n",
      "[0.28838696 0.66875076 0.8560095  0.18352843 0.8448189  0.14511406\n",
      " 0.05574889 0.62234867 0.13955346 0.56180231 0.96038384 0.94641211\n",
      " 0.79844524 0.53868507 0.19523351 0.71481371 0.06350427 0.37988982\n",
      " 0.342159   0.67740293 0.53734951 0.80768151 0.64110989 0.71375042\n",
      " 0.88083543]\n"
     ]
    }
   ],
   "source": [
    "import numpy as np\n",
    "\n",
    "# 1. Create arrays with random integers and floats.\n",
    "x = np.random.randint(0, 100, 25)\n",
    "y = np.random.rand(25)\n",
    "print(x)\n",
    "print(y)"
   ]
  },
  {
   "cell_type": "code",
   "execution_count": 3,
   "metadata": {},
   "outputs": [
    {
     "name": "stdout",
     "output_type": "stream",
     "text": [
      "x mean: 43.0\n",
      "x std: 29.406121811622832\n",
      "y mean: 0.5425487277223681\n",
      "y std: 0.28668300714181394\n"
     ]
    }
   ],
   "source": [
    "# 2. Calculate the mean and standard deviation of each array along the rows.\n",
    "print(f\"x mean: {x.mean()}\")\n",
    "print(f\"x std: {x.std()}\")\n",
    "print(f\"y mean: {y.mean()}\")\n",
    "print(f\"y std: {y.std()}\")"
   ]
  },
  {
   "cell_type": "code",
   "execution_count": 6,
   "metadata": {},
   "outputs": [
    {
     "name": "stdout",
     "output_type": "stream",
     "text": [
      "corrcoef: [[ 1.         -0.08612042]\n",
      " [-0.08612042  1.        ]]\n"
     ]
    }
   ],
   "source": [
    "# 3. Calculate the correlation coefficient between the two arrays. use np.corrcoef().\n",
    "print(f\"corrcoef: {np.corrcoef(x, y)}\")"
   ]
  }
 ],
 "metadata": {
  "kernelspec": {
   "display_name": "Python 3.8.10 ('base')",
   "language": "python",
   "name": "python3"
  },
  "language_info": {
   "codemirror_mode": {
    "name": "ipython",
    "version": 3
   },
   "file_extension": ".py",
   "mimetype": "text/x-python",
   "name": "python",
   "nbconvert_exporter": "python",
   "pygments_lexer": "ipython3",
   "version": "3.8.10"
  },
  "orig_nbformat": 4,
  "vscode": {
   "interpreter": {
    "hash": "678becc90396e97495d18b22cfe2812bf1b0d813dae805ee1714731755d366a6"
   }
  }
 },
 "nbformat": 4,
 "nbformat_minor": 2
}
