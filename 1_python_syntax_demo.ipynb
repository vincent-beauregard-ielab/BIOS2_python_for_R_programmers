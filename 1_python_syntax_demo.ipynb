{
 "cells": [
  {
   "cell_type": "markdown",
   "metadata": {},
   "source": [
    "## Python syntax for R users\n",
    "\n",
    "0. Hello world ( )\n",
    "1. Data types that are similar but different (lists, strings, numbers)\n",
    "   1. List manipulation\n",
    "   2. 0-based indexing\n",
    "   3. Control flow syntax and indentation\n",
    "   4. for and if\n",
    "   5. range()\n",
    "   6. String manipulation and formatting\n",
    "   7. Dot notation\n",
    "   8. \n",
    "2. Python specific data types (tuples, sets, dictionaries)\n",
    "3. Functions, lambdas, sorting and filtering\n"
   ]
  },
  {
   "cell_type": "code",
   "execution_count": null,
   "metadata": {},
   "outputs": [],
   "source": [
    "## Hello world and assignment and print"
   ]
  },
  {
   "cell_type": "markdown",
   "metadata": {},
   "source": [
    "## Python lists and loops\n",
    "\n",
    "**Problem** Given a list of animal names, access and print the first, third, and last elements, and then print a sub-list containing the second to fourth elements."
   ]
  },
  {
   "cell_type": "code",
   "execution_count": null,
   "metadata": {},
   "outputs": [],
   "source": [
    "# List of animal names\n",
    "animals = [\"cat\", \"dog\", \"elephant\", \"giraffe\", \"lion\", \"monkey\", \"penguin\", \"zebra\"]\n",
    "\n",
    "# Access and print the first elements and last element\n",
    "# 0-indexing\n",
    "# negative indexing\n",
    "\n",
    "# Slice and print a sub-list containing the second to fourth elements\n",
    "# Slicing\n",
    "\n",
    "# Slice and print a sub-list containing the last three elements\n",
    " # Slicing\n",
    "\n",
    "# List are mutable, so we can change the value of an element\n",
    "\n",
    "\n",
    "# List can contain any types\n",
    "# Same to R, list can contain different types\n",
    "\n",
    "# Concatenate other list to the end of the list\n",
    "canadian_animals = [\"beaver\", \"moose\"]\n",
    "\n"
   ]
  },
  {
   "cell_type": "markdown",
   "metadata": {},
   "source": [
    "**Problem**: Given a list of random integer values between, describe the list (count, min, max values), count the occurrences of even and odd numbers, and store the counts in separate variables."
   ]
  },
  {
   "cell_type": "code",
   "execution_count": null,
   "metadata": {},
   "outputs": [],
   "source": [
    "# List of random integer values\n",
    "random_numbers = [23, 17, 41, 6, 33, 45, 2, 19, 39, 12, 27, 22, 30, 4, 10, 40, 48, 36, 7, 1]\n",
    "\n",
    "# Let's describe the list (length, max, min)\n"
   ]
  },
  {
   "cell_type": "code",
   "execution_count": null,
   "metadata": {},
   "outputs": [],
   "source": [
    "# Iterate through the list using a for loop\n",
    "\n",
    "# Check if the number is even or odd using Logical operator ( ==, !=, >, <, >=, <=, and, or, not)\n",
    "\n",
    "\n",
    "# # Iterate through the list using a for loop, but without i (index)"
   ]
  },
  {
   "cell_type": "markdown",
   "metadata": {},
   "source": [
    "## Logical operator R vs Python\n",
    "* 🔵 R: `&`, `|`, `!`\n",
    "* 🐍 Python: `and`, `or`, `not`\n",
    "\n",
    "```python\n",
    "# Python\n",
    "True and False # False\n",
    "1 == 1 and 3 % 2 == 1 # True\n",
    "```\n",
    "\n",
    "`and` and `or` are short-circuit operators. This means that the second operand is evaluated only if needed. This is the same behavior as in R with `&&` and `||`.\n",
    "\n",
    "Important. Priority of operations apply. See [Python operator precedence](https://docs.python.org/3/reference/expressions.html#operator-precedence).\n",
    "\n",
    "In Python, `&` and `|` are bitwise operators. This means that they operate on the binary representation of the operands. For example, `1 & 3` is `1` because `1` is `01` in binary and `3` is `11` in binary. The result of `&` is `01` which is `1` in decimal. \n",
    "\n",
    "\n",
    "\n",
    "In operator R vs Python\n",
    "* 🔵 R: `%in%`\n",
    "* 🐍 Python: `in`\n",
    "\n",
    "```python\n",
    "# Python\n",
    "1 in [1, 2, 3] # True\n",
    "1 in [2, 3, 4] # False\n",
    "```\n",
    "\n"
   ]
  },
  {
   "cell_type": "markdown",
   "metadata": {},
   "source": [
    "## String manipulation"
   ]
  },
  {
   "cell_type": "code",
   "execution_count": null,
   "metadata": {},
   "outputs": [],
   "source": [
    "# String creation\n",
    "greeting = \"Hello\"\n",
    "name = \"students\"\n",
    "\n",
    "# String concatenation in the form of \"Hello, students. Welcome to the Python course!\"\n",
    "# Plus sign concatenation\n",
    "message = ''"
   ]
  },
  {
   "cell_type": "code",
   "execution_count": null,
   "metadata": {},
   "outputs": [],
   "source": [
    "# String formatting using the format method"
   ]
  },
  {
   "cell_type": "code",
   "execution_count": null,
   "metadata": {},
   "outputs": [],
   "source": [
    "# String formatting using f-strings\n"
   ]
  },
  {
   "cell_type": "code",
   "execution_count": null,
   "metadata": {},
   "outputs": [],
   "source": [
    "# String methods\n",
    "# Converting string to uppercase\n",
    "\n",
    "# Converting string to lowercase\n",
    "\n",
    "# Replacing part of a string\n",
    "\n",
    "# Splitting a string into a list of words\n",
    "# R Equivalent to strsplit(message, \" \")\n",
    "\n",
    "# Joining a list of words into a string\n",
    "# R Equivalent to paste(words, collapse = \" \")\n",
    "\n",
    "# Stripping leading and trailing whitespace\n",
    "extra_spaces = \"   Hello, world!   \"\n"
   ]
  },
  {
   "cell_type": "markdown",
   "metadata": {},
   "source": [
    "## Dot-notation and object-oriented programming\n",
    "\n",
    "Python is an object-oriented programming language. This means that everything in Python is an object, which has properties and methods that can be accessed using the dot-notation.\n",
    "\n",
    "* Properties are variables that are associated with the object.\n",
    "* Methods are functions that are associated with the object.\n",
    "* Classes are blueprints for creating objects.\n",
    "* Objects are instances of classes, or in other words, objects are created using classes.\n",
    "* Properties and methods are accessed using the dot-notation.\n",
    "\n",
    "Examples:\n",
    "* `[].append(1)` where `append` is a method function of the list class.\n",
    "* `\"Hello world\".upper()`  where `upper` is a method function of the string class.\n",
    "\n",
    "### Naming conventions (🚨IMPORTANT🚨)\n",
    "\n",
    "* Class names are written in UpperCamelCase 🐫 (Cars, Animals, SpeciesObservations)\n",
    "* Variable names, function names, and method names are written in snake_case 🐍 (cars, animals, species_observations)\n",
    "* Constants and global variables are written in ALL_CAPS (API_KEY, PI)\n",
    "\n",
    "\n"
   ]
  },
  {
   "cell_type": "markdown",
   "metadata": {},
   "source": [
    "## 💪 Exercise 1\n",
    "Sure, here's a simple exercise that requires the use of loops, if statements, and string manipulation.\n",
    "\n",
    "**Problem:** \n",
    "\n",
    "Given a paragraph of text, perform the following tasks:\n",
    "\n",
    "1. Split the paragraph into sentences. Assume that all sentences end with a period.\n",
    "2. Print the number of sentences in the paragraph.\n",
    "3. For each sentence, if the sentence has more than five words, convert it to uppercase, else convert it to lowercase.\n",
    "4. Print each sentence on a separate line.\n",
    "\n",
    "Here's an example paragraph:\n"
   ]
  },
  {
   "cell_type": "code",
   "execution_count": null,
   "metadata": {},
   "outputs": [],
   "source": [
    "text = \"Hello, my name is Alice. I love Python. Python is a great programming language. It is widely used for data analysis. I hope you enjoy learning Python too!\"\n",
    "\n",
    "# Step 1: Split the paragraph into sentences\n",
    "\n",
    "# Step 2: Print the number of sentences\n",
    "\n",
    "# Step 3 & 4: Process each sentence\n"
   ]
  },
  {
   "cell_type": "markdown",
   "metadata": {},
   "source": [
    "## Python specific data types\n",
    "### Tuple"
   ]
  },
  {
   "cell_type": "code",
   "execution_count": null,
   "metadata": {},
   "outputs": [],
   "source": [
    "# List of students (name, age) as tuples\n",
    "students = [\n",
    "    (\"Alice\", 19),\n",
    "    (\"Bob\", 17),\n",
    "    (\"Charlie\", 21),\n",
    "    (\"David\", 18),\n",
    "    (\"Eva\", 20),\n",
    "]\n",
    "\n",
    "new_student = (\"Denis\", 22)\n",
    "\n",
    "# Unpack the tuple\n"
   ]
  },
  {
   "cell_type": "markdown",
   "metadata": {},
   "source": [
    "* Tuples are created using parentheses `()`.\n",
    "* Indexing and slicing are supported (same as lists).\n",
    "* Tuples are immutable lists. This means that once a tuple is created, it cannot be changed.\n",
    "* Ordered collection of elements.\n",
    "\n",
    "In the wild, functions might return tuples. For example, the `divmod` function returns a tuple of two values: the quotient and the remainder.\n",
    "\n",
    "```python\n",
    "divmod(10, 3) # (3, 1)\n",
    "```\n",
    "\n",
    "They are also often used to store data that is not supposed to be changed."
   ]
  },
  {
   "cell_type": "code",
   "execution_count": null,
   "metadata": {},
   "outputs": [],
   "source": [
    "# Example : \n",
    "# List students older than 18, Use tuple unpacking\n",
    "\n",
    "# Print the filtered list with a custom message\n"
   ]
  },
  {
   "cell_type": "markdown",
   "metadata": {},
   "source": [
    "### Dictionary"
   ]
  },
  {
   "cell_type": "code",
   "execution_count": 3,
   "metadata": {},
   "outputs": [
    {
     "name": "stdout",
     "output_type": "stream",
     "text": [
      "Dreissena polymorpha\n",
      "{'scientific_name': 'Dreissena polymorpha', 'exotic': True, 'vernacular_name': 'zebra mussel', 'kingdom': 'Animalia', 'class': 'Bivalvia'}\n",
      "scientific_name: Dreissena polymorpha\n",
      "exotic: True\n",
      "vernacular_name: zebra mussel\n",
      "kingdom: Animalia\n",
      "class: Bivalvia\n"
     ]
    }
   ],
   "source": [
    "species = {\n",
    "    \"scientific_name\": \"Dreissena polymorpha\",\n",
    "    \"exotic\": True,\n",
    "    \"vernacular_name\": \"zebra mussel\",\n",
    "    \"kingdom\": \"Animalia\",\n",
    "    \"class\": \"Bivalvia\",\n",
    "    \"family\": \"Dreissenidae\"\n",
    "}\n",
    "\n",
    "# Accessing values using keys\n",
    "\n",
    "# Adding a new key-value pair (key: phylum, value: Mollusca)\n",
    "\n",
    "# Updating an existing key-value pair\n",
    "\n",
    "# Removing a key-value pair\n",
    "\n",
    "# Iterating through a dictionary using the items method\n"
   ]
  },
  {
   "cell_type": "markdown",
   "metadata": {},
   "source": [
    "* Dictionaries are created using curly braces `{}`.\n",
    "* Mutable collection of key-value pairs.\n",
    "* Indexing using *keys* to access *values*.\n",
    "* Can contain any type of data.\n",
    "* Useful for storing data that will be accessed using a key."
   ]
  },
  {
   "cell_type": "markdown",
   "metadata": {},
   "source": [
    "#### Dictionary example : Counting the number of words in a text"
   ]
  },
  {
   "cell_type": "code",
   "execution_count": null,
   "metadata": {},
   "outputs": [],
   "source": [
    "# Example : Counting the number of words in a text\n",
    "text = \"Hello, my name is Vincent. I love Python. Python is a great programming language. It is widely used for data analysis. I hope you enjoy learning Python too!\"\n",
    "\n",
    "# Replace punctuation in the text with empty string to get only words\n",
    "\n",
    "# Split the text into words\n",
    "\n",
    "# Create a dictionary to hold the counts\n",
    "\n",
    "# Count the occurrence of each word\n",
    "\n",
    "# Print the word counts\n"
   ]
  },
  {
   "cell_type": "markdown",
   "metadata": {},
   "source": [
    "### Sets"
   ]
  },
  {
   "cell_type": "code",
   "execution_count": null,
   "metadata": {},
   "outputs": [],
   "source": [
    "# Let's create a set of fruits\n",
    "fruits = {\"apple\", \"banana\", \"cherry\", \"apple\"}\n",
    "\n",
    "# Even though we added \"apple\" twice, it will appear only once in the set\n",
    "print(fruits)  # Output: {\"apple\", \"banana\", \"cherry\"}\n",
    "\n",
    "# Check if \"banana\" is in the set\n",
    "print(\"banana\" in fruits)  # Output: True\n",
    "\n",
    "# Add an element to the set using the add method\n",
    "fruits.add(\"grape\")\n",
    "print(fruits)  # Output: {\"apple\", \"banana\", \"cherry\", \"grape\"}\n",
    "\n",
    "# Add multiple elements to the set\n",
    "fruits.update([\"orange\", \"kiwi\"])\n",
    "print(fruits)  # Output: {\"apple\", \"banana\", \"cherry\", \"grape\", \"orange\", \"kiwi\"}\n",
    "\n",
    "# Remove \"apple\" from the set\n",
    "fruits.remove(\"apple\")\n",
    "print(fruits)  # Output: {\"banana\", \"cherry\", \"grape\", \"orange\", \"kiwi\"}\n",
    "\n",
    "# Set's length\n",
    "print(len(fruits))  # Output: 5\n",
    "\n",
    "# We can also perform set operations like union, intersection, and difference\n",
    "other_fruits = {\"strawberry\", \"banana\", \"mango\"}\n",
    "print(fruits.union(other_fruits))  # Output: {\"banana\", \"cherry\", \"grape\", \"orange\", \"kiwi\", \"strawberry\", \"mango\"}\n",
    "\n",
    "print(fruits.intersection(other_fruits))  # Output: {\"banana\"}\n",
    "\n",
    "print(fruits.difference(other_fruits))  # Output: {\"cherry\", \"grape\", \"orange\", \"kiwi\"}"
   ]
  },
  {
   "cell_type": "markdown",
   "metadata": {},
   "source": [
    "* Sets are created using curly braces `{}`.\n",
    "* Unordered and unindexed collection of unique elements.\n",
    "* Elements cannot be accessed using indexing or slicing.\n",
    "* Useful for removing duplicates from a list.\n",
    "* Useful for performing set operations such as union, intersection, difference, etc."
   ]
  },
  {
   "cell_type": "markdown",
   "metadata": {},
   "source": [
    "💪 Exercise 2\n",
    "\n",
    "You are given a list of observations with a reference list of species for a site. You have to perform the following tasks:\n",
    "* Print the number of observations per year.\n",
    "* Print the number of observation for an exotic species.\n",
    "* Print the number of observations per kingdom."
   ]
  },
  {
   "cell_type": "code",
   "execution_count": null,
   "metadata": {},
   "outputs": [],
   "source": [
    "observations = [('1990-01-01', 'Dreissena polymorpha'),\n",
    "                ('1996-01-04', 'Fallopia japonica'),\n",
    "                ('2013-06-07', 'Lonicera japonica'),\n",
    "                ('1999-02-06', 'Populus tremuloides'),\n",
    "                ('2008-06-12', 'Phragmites australis'),\n",
    "                ('2004-01-25', 'Tamiasciurus hudsonicus'),\n",
    "                ('2015-12-21', 'Populus tremuloides'),\n",
    "                ('2008-06-08', 'Salmo salar'),\n",
    "                ('2011-12-15', 'Picea glauca'),\n",
    "                ('2007-12-27', 'Populus tremuloides'),\n",
    "                ('1998-07-11', 'Carpinus caroliniana'),\n",
    "                ('2010-02-25', 'Alces alces'),\n",
    "                ('2011-12-28', 'Tamiasciurus hudsonicus'),\n",
    "                ('1998-01-03', 'Ursus americanus'),\n",
    "                ('2011-12-28', 'Fallopia japonica'),\n",
    "                ('2003-06-24', 'Puma concolor'),\n",
    "                ('2001-07-23', 'Lonicera japonica'),\n",
    "                ('1994-07-22', 'Carpinus caroliniana'),\n",
    "                ('2007-11-19', 'Castor canadensis'),\n",
    "                ('1992-09-17', 'Quercus rubra')]\n",
    "                \n",
    "species = [\n",
    "    {\"scientific_name\": \"Dreissena polymorpha\", \"exotic\": True, \"vernacular_name\": \"zebra mussel\",\n",
    "        \"kingdom\": \"Animalia\", \"class\": \"Bivalvia\", \"family\": \"Dreissenidae\"},\n",
    "    {\"scientific_name\": \"Puma concolor\", \"exotic\": False, \"vernacular_name\": \"cougar\",\n",
    "        \"kingdom\": \"Animalia\", \"class\": \"Mammalia\", \"family\": \"Felidae\"},\n",
    "    {\"scientific_name\": \"Ursus americanus\", \"exotic\": False, \"vernacular_name\": \"black bear\",\n",
    "        \"kingdom\": \"Animalia\", \"class\": \"Mammalia\", \"family\": \"Ursidae\"},\n",
    "    {\"scientific_name\": \"Alces alces\", \"exotic\": False, \"vernacular_name\": \"moose\",\n",
    "        \"kingdom\": \"Animalia\", \"class\": \"Mammalia\", \"family\": \"Cervidae\"},\n",
    "    {\"scientific_name\": \"Lynx canadensis\", \"exotic\": False, \"vernacular_name\": \"Canadian lynx\",\n",
    "        \"kingdom\": \"Animalia\", \"class\": \"Mammalia\", \"family\": \"Felidae\"},\n",
    "    {\"scientific_name\": \"Branta canadensis\", \"exotic\": False, \"vernacular_name\": \"Canada goose\",\n",
    "        \"kingdom\": \"Animalia\", \"class\": \"Aves\", \"family\": \"Anatidae\"},\n",
    "    {\"scientific_name\": \"Castor canadensis\", \"exotic\": False, \"vernacular_name\": \"North American beaver\",\n",
    "        \"kingdom\": \"Animalia\", \"class\": \"Mammalia\", \"family\": \"Castoridae\"},\n",
    "    {\"scientific_name\": \"Tamiasciurus hudsonicus\", \"exotic\": False, \"vernacular_name\": \"red squirrel\",\n",
    "        \"kingdom\": \"Animalia\", \"class\": \"Mammalia\", \"family\": \"Sciuridae\"},\n",
    "    {\"scientific_name\": \"Acer saccharum\", \"exotic\": False, \"vernacular_name\": \"sugar maple\",\n",
    "        \"kingdom\": \"Plantae\", \"class\": \"Magnoliopsida\", \"family\": \"Sapindaceae\"},\n",
    "    {\"scientific_name\": \"Picea glauca\", \"exotic\": False, \"vernacular_name\": \"white spruce\",\n",
    "        \"kingdom\": \"Plantae\", \"class\": \"Pinopsida\", \"family\": \"Pinaceae\"},\n",
    "    {\"scientific_name\": \"Larix laricina\", \"exotic\": False, \"vernacular_name\": \"tamarack\",\n",
    "        \"kingdom\": \"Plantae\", \"class\": \"Pinopsida\", \"family\": \"Pinaceae\"},\n",
    "    {\"scientific_name\": \"Abies balsamea\", \"exotic\": False, \"vernacular_name\": \"balsam fir\",\n",
    "        \"kingdom\": \"Plantae\", \"class\": \"Pinopsida\", \"family\": \"Pinaceae\"},\n",
    "    {\"scientific_name\": \"Lonicera japonica\", \"exotic\": True, \"vernacular_name\": \"Japanese honeysuckle\",\n",
    "        \"kingdom\": \"Plantae\", \"class\": \"Magnoliopsida\", \"family\": \"Caprifoliaceae\"},\n",
    "    {\"scientific_name\": \"Fallopia japonica\", \"exotic\": True, \"vernacular_name\": \"Japanese knotweed\",\n",
    "        \"kingdom\": \"Plantae\", \"class\": \"Magnoliopsida\", \"family\": \"Polygonaceae\"},\n",
    "    {\"scientific_name\": \"Carpinus caroliniana\", \"exotic\": False, \"vernacular_name\": \"American hornbeam\",\n",
    "        \"kingdom\": \"Plantae\", \"class\": \"Magnoliopsida\", \"family\": \"Betulaceae\"},\n",
    "    {\"scientific_name\": \"Quercus rubra\", \"exotic\": False, \"vernacular_name\": \"red oak\",\n",
    "        \"kingdom\": \"Plantae\", \"class\": \"Magnoliopsida\", \"family\": \"Fagaceae\"},\n",
    "    {\"scientific_name\": \"Myriophyllum spicatum\", \"exotic\": True, \"vernacular_name\": \"Eurasian watermilfoil\",\n",
    "        \"kingdom\": \"Plantae\", \"class\": \"Magnoliopsida\", \"family\": \"Haloragaceae\"},\n",
    "    {\"scientific_name\": \"Populus tremuloides\", \"exotic\": False, \"vernacular_name\": \"trembling aspen\",\n",
    "        \"kingdom\": \"Plantae\", \"class\": \"Magnoliopsida\", \"family\": \"Salicaceae\"},\n",
    "    {\"scientific_name\": \"Phragmites australis\", \"exotic\": True, \"vernacular_name\": \"common reed\",\n",
    "        \"kingdom\": \"Plantae\", \"class\": \"Liliopsida\", \"family\": \"Poaceae\"},\n",
    "    {\"scientific_name\": \"Esox lucius\", \"exotic\": False, \"vernacular_name\": \"northern pike\",\n",
    "        \"kingdom\": \"Animalia\", \"class\": \"Actinopterygii\", \"family\": \"Esocidae\"},\n",
    "    {\"scientific_name\": \"Salmo salar\", \"exotic\": False, \"vernacular_name\": \"Atlantic salmon\",\n",
    "        \"kingdom\": \"Animalia\", \"class\": \"Actinopterygii\", \"family\": \"Salmonidae\"}\n",
    "]\n",
    "\n"
   ]
  },
  {
   "cell_type": "code",
   "execution_count": null,
   "metadata": {},
   "outputs": [],
   "source": [
    "# 1. Iterate over the list of tuples and create a dictionary for each row\n",
    "\n",
    "\n",
    "# 2. Iterate over observations to check if exotic by scientific name\n",
    "\n",
    "\n",
    "# 3. Iterate over observations to get and count kingdom by scientific name\n",
    "\n"
   ]
  },
  {
   "cell_type": "code",
   "execution_count": null,
   "metadata": {},
   "outputs": [],
   "source": [
    "# Conclusion : There are better ways to do this, but this is a good start"
   ]
  }
 ],
 "metadata": {
  "kernelspec": {
   "display_name": "Python 3 (ipykernel)",
   "language": "python",
   "name": "python3"
  },
  "language_info": {
   "codemirror_mode": {
    "name": "ipython",
    "version": 3
   },
   "file_extension": ".py",
   "mimetype": "text/x-python",
   "name": "python",
   "nbconvert_exporter": "python",
   "pygments_lexer": "ipython3",
   "version": "3.8.10"
  },
  "vscode": {
   "interpreter": {
    "hash": "678becc90396e97495d18b22cfe2812bf1b0d813dae805ee1714731755d366a6"
   }
  }
 },
 "nbformat": 4,
 "nbformat_minor": 2
}
